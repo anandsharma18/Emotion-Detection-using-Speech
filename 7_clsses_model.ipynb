{
 "cells": [
  {
   "cell_type": "code",
   "execution_count": 1,
   "metadata": {},
   "outputs": [
    {
     "name": "stderr",
     "output_type": "stream",
     "text": [
      "C:\\Users\\shobh\\Anaconda3\\lib\\site-packages\\pydub\\utils.py:165: RuntimeWarning: Couldn't find ffmpeg or avconv - defaulting to ffmpeg, but may not work\n",
      "  warn(\"Couldn't find ffmpeg or avconv - defaulting to ffmpeg, but may not work\", RuntimeWarning)\n",
      "UsageError: Line magic function `%` not found.\n"
     ]
    }
   ],
   "source": [
    "import pandas as pd\n",
    "import numpy as np\n",
    "import os\n",
    "import librosa\n",
    "from pydub import AudioSegment\n",
    "import librosa.display\n",
    "import pickle\n",
    "import matplotlib.pyplot as plt\n",
    "% inlinematplotlib"
   ]
  },
  {
   "cell_type": "code",
   "execution_count": 2,
   "metadata": {},
   "outputs": [],
   "source": [
    "X = []\n",
    "label = []\n",
    "labellist = []\n",
    "count=[]\n",
    "pwd='../minor/Datasets/'\n",
    "files = os.listdir(pwd)\n",
    "for filename in files:\n",
    "    labellist.append(filename)\n",
    "for i in range(len(labellist)):\n",
    "    path=pwd+labellist[i]\n",
    "    x=[]\n",
    "    count.append(len(os.listdir(path)))\n",
    "    for audio in os.listdir(path):\n",
    "        try:\n",
    "            wav = AudioSegment.from_wav(path+'/'+audio)\n",
    "            wav=np.array(wav.get_array_of_samples()).astype(np.float32)\n",
    "            S = librosa.feature.melspectrogram(wav, sr=16000, n_mels=128)\n",
    "            log_S = librosa.power_to_db(S, ref=np.max)\n",
    "            log_S1=np.zeros((128,32))\n",
    "            m=log_S.shape[1]\n",
    "            if m<=32:\n",
    "                log_S1[:,:m]=log_S[:,:]\n",
    "            else:\n",
    "                log_S1[:,:]=log_S[:,:32]\n",
    "            log_S1=log_S1.T\n",
    "            log_S1=log_S1.reshape((32,128,1))\n",
    "            X.append(log_S1)\n",
    "            label.append(i)\n",
    "        except:\n",
    "            print(i)"
   ]
  },
  {
   "cell_type": "code",
   "execution_count": 3,
   "metadata": {},
   "outputs": [
    {
     "name": "stderr",
     "output_type": "stream",
     "text": [
      "Using TensorFlow backend.\n"
     ]
    }
   ],
   "source": [
    "from sklearn.model_selection import train_test_split\n",
    "from keras.utils import to_categorical"
   ]
  },
  {
   "cell_type": "code",
   "execution_count": 4,
   "metadata": {},
   "outputs": [],
   "source": [
    "X_train, X_test, y_train, y_test = train_test_split(\n",
    "     X,label, test_size=0.2, random_state=42)"
   ]
  },
  {
   "cell_type": "code",
   "execution_count": 5,
   "metadata": {},
   "outputs": [],
   "source": [
    "from keras.models import Sequential\n",
    "from keras.layers.normalization import BatchNormalization\n",
    "from keras.layers.convolutional import Conv2D,MaxPooling2D,Conv1D\n",
    "from keras.optimizers import adam\n",
    "from keras.layers import LSTM\n",
    "from keras.losses import categorical_crossentropy\n",
    "from keras.utils.vis_utils import plot_model\n",
    "from keras.layers.core import Activation,Flatten,Dropout,Dense,Reshape"
   ]
  },
  {
   "cell_type": "code",
   "execution_count": 6,
   "metadata": {},
   "outputs": [
    {
     "name": "stdout",
     "output_type": "stream",
     "text": [
      "WARNING:tensorflow:From C:\\Users\\shobh\\Anaconda3\\lib\\site-packages\\tensorflow\\python\\framework\\op_def_library.py:263: colocate_with (from tensorflow.python.framework.ops) is deprecated and will be removed in a future version.\n",
      "Instructions for updating:\n",
      "Colocations handled automatically by placer.\n",
      "WARNING:tensorflow:From C:\\Users\\shobh\\Anaconda3\\lib\\site-packages\\keras\\backend\\tensorflow_backend.py:3445: calling dropout (from tensorflow.python.ops.nn_ops) with keep_prob is deprecated and will be removed in a future version.\n",
      "Instructions for updating:\n",
      "Please use `rate` instead of `keep_prob`. Rate should be set to `rate = 1 - keep_prob`.\n",
      "_________________________________________________________________\n",
      "Layer (type)                 Output Shape              Param #   \n",
      "=================================================================\n",
      "conv2d_1 (Conv2D)            (None, 32, 128, 32)       320       \n",
      "_________________________________________________________________\n",
      "conv2d_2 (Conv2D)            (None, 32, 128, 32)       9248      \n",
      "_________________________________________________________________\n",
      "max_pooling2d_1 (MaxPooling2 (None, 16, 64, 32)        0         \n",
      "_________________________________________________________________\n",
      "batch_normalization_1 (Batch (None, 16, 64, 32)        128       \n",
      "_________________________________________________________________\n",
      "conv2d_3 (Conv2D)            (None, 16, 64, 32)        9248      \n",
      "_________________________________________________________________\n",
      "conv2d_4 (Conv2D)            (None, 16, 64, 32)        9248      \n",
      "_________________________________________________________________\n",
      "max_pooling2d_2 (MaxPooling2 (None, 8, 32, 32)         0         \n",
      "_________________________________________________________________\n",
      "conv2d_5 (Conv2D)            (None, 8, 32, 64)         18496     \n",
      "_________________________________________________________________\n",
      "conv2d_6 (Conv2D)            (None, 8, 32, 64)         36928     \n",
      "_________________________________________________________________\n",
      "max_pooling2d_3 (MaxPooling2 (None, 4, 16, 64)         0         \n",
      "_________________________________________________________________\n",
      "conv2d_7 (Conv2D)            (None, 4, 16, 128)        73856     \n",
      "_________________________________________________________________\n",
      "conv2d_8 (Conv2D)            (None, 4, 16, 128)        147584    \n",
      "_________________________________________________________________\n",
      "conv2d_9 (Conv2D)            (None, 4, 16, 128)        147584    \n",
      "_________________________________________________________________\n",
      "conv2d_10 (Conv2D)           (None, 4, 16, 128)        147584    \n",
      "_________________________________________________________________\n",
      "reshape_1 (Reshape)          (None, 16, 512)           0         \n",
      "_________________________________________________________________\n",
      "lstm_1 (LSTM)                (None, 128)               328192    \n",
      "_________________________________________________________________\n",
      "dense_1 (Dense)              (None, 128)               16512     \n",
      "_________________________________________________________________\n",
      "dropout_1 (Dropout)          (None, 128)               0         \n",
      "_________________________________________________________________\n",
      "dense_2 (Dense)              (None, 64)                8256      \n",
      "_________________________________________________________________\n",
      "dense_3 (Dense)              (None, 7)                 455       \n",
      "=================================================================\n",
      "Total params: 953,639\n",
      "Trainable params: 953,575\n",
      "Non-trainable params: 64\n",
      "_________________________________________________________________\n",
      "None\n"
     ]
    }
   ],
   "source": [
    "model = Sequential()\n",
    "model.add(Conv2D(32, kernel_size=(3, 3),padding=\"same\", activation='relu', input_shape=(32,128,1)))\n",
    "model.add(Conv2D(32, kernel_size=(3, 3),padding=\"same\", activation='relu'))\n",
    "model.add(MaxPooling2D(pool_size=(2, 2)))\n",
    "model.add(BatchNormalization())\n",
    "model.add(Conv2D(32, kernel_size=(3, 3),padding=\"same\", activation='relu'))\n",
    "model.add(Conv2D(32, kernel_size=(3, 3),padding=\"same\", activation='relu'))\n",
    "model.add(MaxPooling2D(pool_size=(2,2)))\n",
    "model.add(Conv2D(64, kernel_size=(3, 3),padding=\"same\", activation='relu'))\n",
    "model.add(Conv2D(64, kernel_size=(3, 3),padding=\"same\", activation='relu'))\n",
    "model.add(MaxPooling2D(pool_size=(2, 2)))\n",
    "model.add(Conv2D(128, kernel_size=(3, 3),padding=\"same\", activation='relu'))\n",
    "model.add(Conv2D(128, kernel_size=(3, 3),padding=\"same\", activation='relu'))\n",
    "model.add(Conv2D(128, kernel_size=(3, 3),padding=\"same\", activation='relu'))\n",
    "model.add(Conv2D(128, kernel_size=(3, 3),padding=\"same\", activation='relu'))\n",
    "model.add(Reshape((16,512)))\n",
    "model.add(LSTM(128))\n",
    "model.add(Dense(128, activation='relu'))\n",
    "model.add(Dropout(0.5))\n",
    "model.add(Dense(64, activation='relu'))\n",
    "model.add(Dense(7, activation='softmax'))\n",
    "\n",
    "#Compile\n",
    "model.compile(loss=categorical_crossentropy, optimizer=adam(), metrics=['accuracy'])\n",
    "print(model.summary())"
   ]
  },
  {
   "cell_type": "code",
   "execution_count": 7,
   "metadata": {},
   "outputs": [
    {
     "name": "stdout",
     "output_type": "stream",
     "text": [
      "WARNING:tensorflow:From C:\\Users\\shobh\\Anaconda3\\lib\\site-packages\\tensorflow\\python\\ops\\math_ops.py:3066: to_int32 (from tensorflow.python.ops.math_ops) is deprecated and will be removed in a future version.\n",
      "Instructions for updating:\n",
      "Use tf.cast instead.\n",
      "Train on 1118 samples, validate on 280 samples\n",
      "Epoch 1/20\n",
      "1118/1118 [==============================] - 33s 29ms/step - loss: 1.9497 - acc: 0.1288 - val_loss: 1.9464 - val_acc: 0.1393\n",
      "Epoch 2/20\n",
      "1118/1118 [==============================] - 31s 27ms/step - loss: 1.9404 - acc: 0.1431 - val_loss: 1.8943 - val_acc: 0.1679\n",
      "Epoch 3/20\n",
      "1118/1118 [==============================] - 31s 28ms/step - loss: 1.6680 - acc: 0.2755 - val_loss: 2.1812 - val_acc: 0.1893\n",
      "Epoch 4/20\n",
      "1118/1118 [==============================] - 33s 30ms/step - loss: 1.4313 - acc: 0.3211 - val_loss: 2.0615 - val_acc: 0.2000\n",
      "Epoch 5/20\n",
      "1118/1118 [==============================] - 35s 31ms/step - loss: 1.0520 - acc: 0.5358 - val_loss: 4.7821 - val_acc: 0.1250\n",
      "Epoch 6/20\n",
      "1118/1118 [==============================] - 31s 28ms/step - loss: 0.5862 - acc: 0.7773 - val_loss: 1.7902 - val_acc: 0.5107\n",
      "Epoch 7/20\n",
      "1118/1118 [==============================] - 36s 32ms/step - loss: 0.4184 - acc: 0.8211 - val_loss: 0.6491 - val_acc: 0.8036\n",
      "Epoch 8/20\n",
      "1118/1118 [==============================] - 31s 28ms/step - loss: 0.2953 - acc: 0.9025 - val_loss: 1.2928 - val_acc: 0.6286\n",
      "Epoch 9/20\n",
      "1118/1118 [==============================] - 30s 27ms/step - loss: 0.1500 - acc: 0.9633 - val_loss: 3.5706 - val_acc: 0.4321\n",
      "Epoch 10/20\n",
      "1118/1118 [==============================] - 31s 28ms/step - loss: 0.1573 - acc: 0.9535 - val_loss: 0.2197 - val_acc: 0.9214\n",
      "Epoch 11/20\n",
      "1118/1118 [==============================] - 30s 27ms/step - loss: 0.1748 - acc: 0.9687 - val_loss: 0.0920 - val_acc: 0.9714\n",
      "Epoch 12/20\n",
      "1118/1118 [==============================] - 30s 27ms/step - loss: 0.1109 - acc: 0.9750 - val_loss: 0.1345 - val_acc: 0.9429\n",
      "Epoch 13/20\n",
      "1118/1118 [==============================] - 30s 27ms/step - loss: 0.1921 - acc: 0.9472 - val_loss: 0.3668 - val_acc: 0.9143\n",
      "Epoch 14/20\n",
      "1118/1118 [==============================] - 30s 27ms/step - loss: 0.0725 - acc: 0.9839 - val_loss: 0.0888 - val_acc: 0.9714\n",
      "Epoch 15/20\n",
      "1118/1118 [==============================] - 30s 27ms/step - loss: 0.0501 - acc: 0.9848 - val_loss: 0.0413 - val_acc: 0.9893\n",
      "Epoch 16/20\n",
      "1118/1118 [==============================] - 30s 27ms/step - loss: 0.0175 - acc: 0.9946 - val_loss: 0.0192 - val_acc: 0.9929\n",
      "Epoch 17/20\n",
      "1118/1118 [==============================] - 30s 27ms/step - loss: 0.0389 - acc: 0.9893 - val_loss: 0.0225 - val_acc: 0.9929\n",
      "Epoch 18/20\n",
      "1118/1118 [==============================] - 30s 27ms/step - loss: 0.0182 - acc: 0.9955 - val_loss: 0.0746 - val_acc: 0.9893\n",
      "Epoch 19/20\n",
      "1118/1118 [==============================] - 33s 30ms/step - loss: 0.0125 - acc: 0.9937 - val_loss: 0.0366 - val_acc: 0.9929\n",
      "Epoch 20/20\n",
      "1118/1118 [==============================] - 30s 27ms/step - loss: 0.0035 - acc: 0.9991 - val_loss: 0.0176 - val_acc: 0.9929\n"
     ]
    }
   ],
   "source": [
    "history=model.fit(np.array(X_train), to_categorical(np.array(y_train)),\n",
    "              batch_size=40,\n",
    "              epochs=20,\n",
    "              validation_data=(np.array(X_test), to_categorical(np.array(y_test))),\n",
    "              shuffle=True)"
   ]
  },
  {
   "cell_type": "code",
   "execution_count": 28,
   "metadata": {},
   "outputs": [],
   "source": [
    "pickle.dump(model, open(\"../minor/model_7.sav\", 'wb'))"
   ]
  },
  {
   "cell_type": "code",
   "execution_count": 29,
   "metadata": {},
   "outputs": [
    {
     "data": {
      "image/png": "[encoded data removed]",
      "text/plain": [
       "<Figure size 432x288 with 1 Axes>"
      ]
     },
     "metadata": {
      "needs_background": "light"
     },
     "output_type": "display_data"
    },
    {
     "data": {
      "image/png": "[encoded data removed]",
      "text/plain": [
       "<Figure size 432x288 with 1 Axes>"
      ]
     },
     "metadata": {
      "needs_background": "light"
     },
     "output_type": "display_data"
    }
   ],
   "source": [
    "# Plot training & validation accuracy values\n",
    "plt.plot(history.history['acc'])\n",
    "plt.plot(history.history['val_acc'])\n",
    "plt.title('Model accuracy')\n",
    "plt.ylabel('Accuracy')\n",
    "plt.xlabel('Epoch')\n",
    "plt.legend(['Train', 'Test'], loc='upper left')\n",
    "plt.show()\n",
    "\n",
    "# Plot training & validation loss values\n",
    "plt.plot(history.history['loss'])\n",
    "plt.plot(history.history['val_loss'])\n",
    "plt.title('Model loss')\n",
    "plt.ylabel('Loss')\n",
    "plt.xlabel('Epoch')\n",
    "plt.legend(['Train', 'Test'], loc='upper left')\n",
    "plt.show()"
   ]
  },
  {
   "cell_type": "code",
   "execution_count": null,
   "metadata": {},
   "outputs": [],
   "source": []
  }
 ],
 "metadata": {
  "kernelspec": {
   "display_name": "Python 3",
   "language": "python",
   "name": "python3"
  },
  "language_info": {
   "codemirror_mode": {
    "name": "ipython",
    "version": 3
   },
   "file_extension": ".py",
   "mimetype": "text/x-python",
   "name": "python",
   "nbconvert_exporter": "python",
   "pygments_lexer": "ipython3",
   "version": "3.6.5"
  }
 },
 "nbformat": 4,
 "nbformat_minor": 2
}
